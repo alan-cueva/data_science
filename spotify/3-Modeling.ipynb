{
 "cells": [
  {
   "cell_type": "code",
   "execution_count": 3,
   "id": "labeled-premises",
   "metadata": {},
   "outputs": [],
   "source": [
    "import math\n",
    "import pandas as pd\n",
    "from sklearn.metrics import mean_squared_error\n",
    "from sklearn.model_selection import cross_val_score\n",
    "from sklearn.linear_model import LinearRegression\n",
    "from sklearn.tree import DecisionTreeRegressor\n",
    "from sklearn.linear_model import Ridge\n",
    "from sklearn.ensemble import BaggingRegressor\n",
    "from sklearn.tree import ExtraTreeRegressor\n",
    "from sklearn.model_selection import train_test_split\n",
    "from sklearn.model_selection import GridSearchCV\n",
    "from sklearn.metrics import mean_squared_error\n",
    "from sklearn.ensemble import VotingRegressor\n",
    "from sklearn.ensemble import RandomForestRegressor\n",
    "from sklearn.neural_network import MLPRegressor"
   ]
  },
  {
   "cell_type": "markdown",
   "id": "motivated-angel",
   "metadata": {},
   "source": [
    "### Hyperparameters Tuning"
   ]
  },
  {
   "cell_type": "code",
   "execution_count": 4,
   "id": "interim-sydney",
   "metadata": {},
   "outputs": [
    {
     "data": {
      "text/plain": [
       "((129172, 15), (129172,))"
      ]
     },
     "execution_count": 4,
     "metadata": {},
     "output_type": "execute_result"
    }
   ],
   "source": [
    "df = pd.read_csv('data/train_features.csv')\n",
    "y = df.pop('popularity').values\n",
    "X = df.values\n",
    "X.shape, y.shape"
   ]
  },
  {
   "cell_type": "markdown",
   "id": "normal-alliance",
   "metadata": {},
   "source": [
    "1.- Linear Regression"
   ]
  },
  {
   "cell_type": "code",
   "execution_count": 3,
   "id": "nervous-wagner",
   "metadata": {},
   "outputs": [],
   "source": [
    "param_grid = {'n_jobs'         : [None, 2, -1],\n",
    "              'normalize'      : [True, False],\n",
    "              'copy_X'         : [True, False]}\n",
    "\n",
    "model1    = LinearRegression()\n",
    "model1_gs = GridSearchCV(model1, param_grid, cv=3, n_jobs=-1, scoring='neg_root_mean_squared_error')\n",
    "model1_gs = model1_gs.fit(X, y)"
   ]
  },
  {
   "cell_type": "code",
   "execution_count": 17,
   "id": "classical-competition",
   "metadata": {},
   "outputs": [
    {
     "data": {
      "text/html": [
       "<div>\n",
       "<style scoped>\n",
       "    .dataframe tbody tr th:only-of-type {\n",
       "        vertical-align: middle;\n",
       "    }\n",
       "\n",
       "    .dataframe tbody tr th {\n",
       "        vertical-align: top;\n",
       "    }\n",
       "\n",
       "    .dataframe thead th {\n",
       "        text-align: right;\n",
       "    }\n",
       "</style>\n",
       "<table border=\"1\" class=\"dataframe\">\n",
       "  <thead>\n",
       "    <tr style=\"text-align: right;\">\n",
       "      <th></th>\n",
       "      <th>rank</th>\n",
       "      <th>NRMSE</th>\n",
       "      <th>p_n_jobs</th>\n",
       "      <th>p_normalize</th>\n",
       "      <th>p_copy_X</th>\n",
       "    </tr>\n",
       "  </thead>\n",
       "  <tbody>\n",
       "    <tr>\n",
       "      <th>1</th>\n",
       "      <td>1</td>\n",
       "      <td>-8.988694</td>\n",
       "      <td>None</td>\n",
       "      <td>False</td>\n",
       "      <td>True</td>\n",
       "    </tr>\n",
       "    <tr>\n",
       "      <th>3</th>\n",
       "      <td>1</td>\n",
       "      <td>-8.988694</td>\n",
       "      <td>2</td>\n",
       "      <td>False</td>\n",
       "      <td>True</td>\n",
       "    </tr>\n",
       "    <tr>\n",
       "      <th>5</th>\n",
       "      <td>1</td>\n",
       "      <td>-8.988694</td>\n",
       "      <td>-1</td>\n",
       "      <td>False</td>\n",
       "      <td>True</td>\n",
       "    </tr>\n",
       "    <tr>\n",
       "      <th>7</th>\n",
       "      <td>1</td>\n",
       "      <td>-8.988694</td>\n",
       "      <td>None</td>\n",
       "      <td>False</td>\n",
       "      <td>False</td>\n",
       "    </tr>\n",
       "    <tr>\n",
       "      <th>9</th>\n",
       "      <td>1</td>\n",
       "      <td>-8.988694</td>\n",
       "      <td>2</td>\n",
       "      <td>False</td>\n",
       "      <td>False</td>\n",
       "    </tr>\n",
       "  </tbody>\n",
       "</table>\n",
       "</div>"
      ],
      "text/plain": [
       "   rank     NRMSE p_n_jobs p_normalize p_copy_X\n",
       "1     1 -8.988694     None       False     True\n",
       "3     1 -8.988694        2       False     True\n",
       "5     1 -8.988694       -1       False     True\n",
       "7     1 -8.988694     None       False    False\n",
       "9     1 -8.988694        2       False    False"
      ]
     },
     "execution_count": 17,
     "metadata": {},
     "output_type": "execute_result"
    }
   ],
   "source": [
    "tmp = pd.DataFrame(model1_gs.cv_results_)\n",
    "tmp = tmp[tmp['rank_test_score'] == 1]\n",
    "\n",
    "tmp = tmp.rename(columns={'rank_test_score' : 'rank',\n",
    "                          'mean_test_score' : 'NRMSE',\n",
    "                          'param_n_jobs' : 'p_n_jobs',\n",
    "                          'param_normalize' : 'p_normalize',\n",
    "                          'param_copy_X' : 'p_copy_X'})\n",
    "tmp [['rank', 'NRMSE', 'p_n_jobs', 'p_normalize','p_copy_X' ]].head()"
   ]
  },
  {
   "cell_type": "markdown",
   "id": "focused-nirvana",
   "metadata": {},
   "source": [
    "2.- BaggingRegressor + DecisionTreeRegressor"
   ]
  },
  {
   "cell_type": "code",
   "execution_count": 8,
   "id": "changing-merchandise",
   "metadata": {},
   "outputs": [],
   "source": [
    "param_grid = {'random_state'              : [None, 0, 42],\n",
    "              'base_estimator__max_depth' : [None, 8, 9, 10, 11, 12,15, 20],\n",
    "              'base_estimator__criterion' : ['mse', 'friedman_mse']\n",
    "             }\n",
    "\n",
    "model21    = BaggingRegressor(DecisionTreeRegressor())\n",
    "model21_gs = GridSearchCV(model21, param_grid, cv=3, n_jobs=-1, scoring='neg_root_mean_squared_error')\n",
    "model21_gs = model21_gs.fit(X, y)"
   ]
  },
  {
   "cell_type": "code",
   "execution_count": 14,
   "id": "removed-centre",
   "metadata": {},
   "outputs": [
    {
     "data": {
      "text/html": [
       "<div>\n",
       "<style scoped>\n",
       "    .dataframe tbody tr th:only-of-type {\n",
       "        vertical-align: middle;\n",
       "    }\n",
       "\n",
       "    .dataframe tbody tr th {\n",
       "        vertical-align: top;\n",
       "    }\n",
       "\n",
       "    .dataframe thead th {\n",
       "        text-align: right;\n",
       "    }\n",
       "</style>\n",
       "<table border=\"1\" class=\"dataframe\">\n",
       "  <thead>\n",
       "    <tr style=\"text-align: right;\">\n",
       "      <th></th>\n",
       "      <th>rank</th>\n",
       "      <th>NRMSE</th>\n",
       "      <th>p_random_state</th>\n",
       "      <th>p_max_depth</th>\n",
       "      <th>p_criterion</th>\n",
       "    </tr>\n",
       "  </thead>\n",
       "  <tbody>\n",
       "    <tr>\n",
       "      <th>0</th>\n",
       "      <td>1</td>\n",
       "      <td>-8.151665</td>\n",
       "      <td>0</td>\n",
       "      <td>12</td>\n",
       "      <td>mse</td>\n",
       "    </tr>\n",
       "    <tr>\n",
       "      <th>1</th>\n",
       "      <td>2</td>\n",
       "      <td>-8.153435</td>\n",
       "      <td>0</td>\n",
       "      <td>11</td>\n",
       "      <td>mse</td>\n",
       "    </tr>\n",
       "    <tr>\n",
       "      <th>2</th>\n",
       "      <td>3</td>\n",
       "      <td>-8.153672</td>\n",
       "      <td>0</td>\n",
       "      <td>11</td>\n",
       "      <td>friedman_mse</td>\n",
       "    </tr>\n",
       "    <tr>\n",
       "      <th>3</th>\n",
       "      <td>4</td>\n",
       "      <td>-8.154579</td>\n",
       "      <td>0</td>\n",
       "      <td>12</td>\n",
       "      <td>friedman_mse</td>\n",
       "    </tr>\n",
       "    <tr>\n",
       "      <th>4</th>\n",
       "      <td>5</td>\n",
       "      <td>-8.154773</td>\n",
       "      <td>None</td>\n",
       "      <td>11</td>\n",
       "      <td>friedman_mse</td>\n",
       "    </tr>\n",
       "  </tbody>\n",
       "</table>\n",
       "</div>"
      ],
      "text/plain": [
       "   rank     NRMSE p_random_state p_max_depth   p_criterion\n",
       "0     1 -8.151665              0          12           mse\n",
       "1     2 -8.153435              0          11           mse\n",
       "2     3 -8.153672              0          11  friedman_mse\n",
       "3     4 -8.154579              0          12  friedman_mse\n",
       "4     5 -8.154773           None          11  friedman_mse"
      ]
     },
     "execution_count": 14,
     "metadata": {},
     "output_type": "execute_result"
    }
   ],
   "source": [
    "tmp = pd.DataFrame(model21_gs.cv_results_)\n",
    "tmp = tmp.sort_values(by=['rank_test_score']).reset_index(drop='index')\n",
    "\n",
    "tmp = tmp.rename(columns={'rank_test_score' : 'rank',\n",
    "                          'mean_test_score' : 'NRMSE',\n",
    "                          'param_random_state' : 'p_random_state',\n",
    "                          'param_base_estimator__max_depth' : 'p_max_depth',\n",
    "                          'param_base_estimator__criterion' : 'p_criterion'})\n",
    "\n",
    "tmp [['rank', 'NRMSE', 'p_random_state', 'p_max_depth', 'p_criterion']].head()"
   ]
  },
  {
   "cell_type": "markdown",
   "id": "located-preservation",
   "metadata": {},
   "source": [
    "3.- Ridge"
   ]
  },
  {
   "cell_type": "code",
   "execution_count": 18,
   "id": "marine-porcelain",
   "metadata": {},
   "outputs": [],
   "source": [
    "param_grid = {'copy_X'    : [True, False],\n",
    "              'normalize' : [True, False]}\n",
    "\n",
    "model3    = Ridge()\n",
    "model3_gs = GridSearchCV(model3, param_grid, cv=3, n_jobs=-1, scoring='neg_root_mean_squared_error')\n",
    "model3_gs = model3_gs.fit(X, y)"
   ]
  },
  {
   "cell_type": "code",
   "execution_count": 20,
   "id": "crazy-capital",
   "metadata": {},
   "outputs": [
    {
     "data": {
      "text/html": [
       "<div>\n",
       "<style scoped>\n",
       "    .dataframe tbody tr th:only-of-type {\n",
       "        vertical-align: middle;\n",
       "    }\n",
       "\n",
       "    .dataframe tbody tr th {\n",
       "        vertical-align: top;\n",
       "    }\n",
       "\n",
       "    .dataframe thead th {\n",
       "        text-align: right;\n",
       "    }\n",
       "</style>\n",
       "<table border=\"1\" class=\"dataframe\">\n",
       "  <thead>\n",
       "    <tr style=\"text-align: right;\">\n",
       "      <th></th>\n",
       "      <th>rank</th>\n",
       "      <th>NRMSE</th>\n",
       "      <th>p_normalize</th>\n",
       "      <th>p_copy_X</th>\n",
       "    </tr>\n",
       "  </thead>\n",
       "  <tbody>\n",
       "    <tr>\n",
       "      <th>0</th>\n",
       "      <td>1</td>\n",
       "      <td>-8.988694</td>\n",
       "      <td>False</td>\n",
       "      <td>True</td>\n",
       "    </tr>\n",
       "    <tr>\n",
       "      <th>1</th>\n",
       "      <td>1</td>\n",
       "      <td>-8.988694</td>\n",
       "      <td>False</td>\n",
       "      <td>False</td>\n",
       "    </tr>\n",
       "    <tr>\n",
       "      <th>2</th>\n",
       "      <td>3</td>\n",
       "      <td>-12.723355</td>\n",
       "      <td>True</td>\n",
       "      <td>True</td>\n",
       "    </tr>\n",
       "    <tr>\n",
       "      <th>3</th>\n",
       "      <td>3</td>\n",
       "      <td>-12.723355</td>\n",
       "      <td>True</td>\n",
       "      <td>False</td>\n",
       "    </tr>\n",
       "  </tbody>\n",
       "</table>\n",
       "</div>"
      ],
      "text/plain": [
       "   rank      NRMSE p_normalize p_copy_X\n",
       "0     1  -8.988694       False     True\n",
       "1     1  -8.988694       False    False\n",
       "2     3 -12.723355        True     True\n",
       "3     3 -12.723355        True    False"
      ]
     },
     "execution_count": 20,
     "metadata": {},
     "output_type": "execute_result"
    }
   ],
   "source": [
    "tmp = pd.DataFrame(model3_gs.cv_results_)\n",
    "tmp = tmp.sort_values(by=['rank_test_score']).reset_index(drop='index')\n",
    "tmp = tmp.rename(columns={'rank_test_score' : 'rank',\n",
    "                          'mean_test_score' : 'NRMSE',\n",
    "                          'param_normalize' : 'p_normalize',\n",
    "                          'param_copy_X' : 'p_copy_X'})\n",
    "\n",
    "tmp [['rank', 'NRMSE', 'p_normalize', 'p_copy_X' ]].head()"
   ]
  },
  {
   "cell_type": "markdown",
   "id": "knowing-peoples",
   "metadata": {},
   "source": [
    "4.- BaggingRegressor + ExtraTreeRegressor"
   ]
  },
  {
   "cell_type": "code",
   "execution_count": 21,
   "id": "separate-dynamics",
   "metadata": {},
   "outputs": [],
   "source": [
    "param_grid = {'random_state'              : [None, 0, 42],\n",
    "              'base_estimator__max_depth' : [None, 8, 9, 10, 11, 12,15, 20],\n",
    "              'base_estimator__criterion' : ['mse', 'friedman_mse']\n",
    "             }\n",
    "\n",
    "model41    = BaggingRegressor(ExtraTreeRegressor())\n",
    "model41_gs = GridSearchCV(model41, param_grid, cv=3, n_jobs=-1, scoring='neg_root_mean_squared_error')\n",
    "model41_gs = model41_gs.fit(X, y)"
   ]
  },
  {
   "cell_type": "code",
   "execution_count": 22,
   "id": "atmospheric-dietary",
   "metadata": {},
   "outputs": [
    {
     "data": {
      "text/html": [
       "<div>\n",
       "<style scoped>\n",
       "    .dataframe tbody tr th:only-of-type {\n",
       "        vertical-align: middle;\n",
       "    }\n",
       "\n",
       "    .dataframe tbody tr th {\n",
       "        vertical-align: top;\n",
       "    }\n",
       "\n",
       "    .dataframe thead th {\n",
       "        text-align: right;\n",
       "    }\n",
       "</style>\n",
       "<table border=\"1\" class=\"dataframe\">\n",
       "  <thead>\n",
       "    <tr style=\"text-align: right;\">\n",
       "      <th></th>\n",
       "      <th>rank</th>\n",
       "      <th>NRMSE</th>\n",
       "      <th>p_random_state</th>\n",
       "      <th>p_max_depth</th>\n",
       "      <th>p_criterion</th>\n",
       "    </tr>\n",
       "  </thead>\n",
       "  <tbody>\n",
       "    <tr>\n",
       "      <th>0</th>\n",
       "      <td>1</td>\n",
       "      <td>-8.206738</td>\n",
       "      <td>None</td>\n",
       "      <td>15</td>\n",
       "      <td>friedman_mse</td>\n",
       "    </tr>\n",
       "    <tr>\n",
       "      <th>1</th>\n",
       "      <td>2</td>\n",
       "      <td>-8.206877</td>\n",
       "      <td>0</td>\n",
       "      <td>15</td>\n",
       "      <td>mse</td>\n",
       "    </tr>\n",
       "    <tr>\n",
       "      <th>2</th>\n",
       "      <td>3</td>\n",
       "      <td>-8.209650</td>\n",
       "      <td>42</td>\n",
       "      <td>15</td>\n",
       "      <td>mse</td>\n",
       "    </tr>\n",
       "    <tr>\n",
       "      <th>3</th>\n",
       "      <td>4</td>\n",
       "      <td>-8.211333</td>\n",
       "      <td>42</td>\n",
       "      <td>15</td>\n",
       "      <td>friedman_mse</td>\n",
       "    </tr>\n",
       "    <tr>\n",
       "      <th>4</th>\n",
       "      <td>5</td>\n",
       "      <td>-8.223861</td>\n",
       "      <td>0</td>\n",
       "      <td>15</td>\n",
       "      <td>friedman_mse</td>\n",
       "    </tr>\n",
       "  </tbody>\n",
       "</table>\n",
       "</div>"
      ],
      "text/plain": [
       "   rank     NRMSE p_random_state p_max_depth   p_criterion\n",
       "0     1 -8.206738           None          15  friedman_mse\n",
       "1     2 -8.206877              0          15           mse\n",
       "2     3 -8.209650             42          15           mse\n",
       "3     4 -8.211333             42          15  friedman_mse\n",
       "4     5 -8.223861              0          15  friedman_mse"
      ]
     },
     "execution_count": 22,
     "metadata": {},
     "output_type": "execute_result"
    }
   ],
   "source": [
    "tmp = pd.DataFrame(model41_gs.cv_results_)\n",
    "tmp = tmp.sort_values(by=['rank_test_score']).reset_index(drop='index')\n",
    "\n",
    "tmp = tmp.rename(columns={'rank_test_score' : 'rank',\n",
    "                          'mean_test_score' : 'NRMSE',\n",
    "                          'param_random_state' : 'p_random_state',\n",
    "                          'param_base_estimator__max_depth' : 'p_max_depth',\n",
    "                          'param_base_estimator__criterion' : 'p_criterion'})\n",
    "\n",
    "tmp [['rank', 'NRMSE', 'p_random_state', 'p_max_depth', 'p_criterion']].head()"
   ]
  },
  {
   "cell_type": "markdown",
   "id": "demanding-viewer",
   "metadata": {},
   "source": [
    "5.- RandomForestRegressor"
   ]
  },
  {
   "cell_type": "code",
   "execution_count": 3,
   "id": "present-boxing",
   "metadata": {},
   "outputs": [],
   "source": [
    "param_grid = {'random_state' : [None, 0, 42],\n",
    "              'max_depth'    : [10, 13, 14, 15, 16, 17, 20],\n",
    "              'criterion'    : ['mse', 'friedman_mse']}\n",
    "\n",
    "model5    = RandomForestRegressor(n_jobs=-1)\n",
    "model5_gs = GridSearchCV(model5, param_grid, cv=3, n_jobs=-1, scoring='neg_root_mean_squared_error')\n",
    "model5_gs = model5_gs.fit(X, y)"
   ]
  },
  {
   "cell_type": "code",
   "execution_count": 5,
   "id": "arranged-lemon",
   "metadata": {},
   "outputs": [
    {
     "data": {
      "text/html": [
       "<div>\n",
       "<style scoped>\n",
       "    .dataframe tbody tr th:only-of-type {\n",
       "        vertical-align: middle;\n",
       "    }\n",
       "\n",
       "    .dataframe tbody tr th {\n",
       "        vertical-align: top;\n",
       "    }\n",
       "\n",
       "    .dataframe thead th {\n",
       "        text-align: right;\n",
       "    }\n",
       "</style>\n",
       "<table border=\"1\" class=\"dataframe\">\n",
       "  <thead>\n",
       "    <tr style=\"text-align: right;\">\n",
       "      <th></th>\n",
       "      <th>rank</th>\n",
       "      <th>NRMSE</th>\n",
       "      <th>p_random_state</th>\n",
       "      <th>p_max_depth</th>\n",
       "      <th>p_criterion</th>\n",
       "    </tr>\n",
       "  </thead>\n",
       "  <tbody>\n",
       "    <tr>\n",
       "      <th>0</th>\n",
       "      <td>1</td>\n",
       "      <td>-8.042244</td>\n",
       "      <td>None</td>\n",
       "      <td>15</td>\n",
       "      <td>mse</td>\n",
       "    </tr>\n",
       "    <tr>\n",
       "      <th>1</th>\n",
       "      <td>2</td>\n",
       "      <td>-8.043194</td>\n",
       "      <td>0</td>\n",
       "      <td>15</td>\n",
       "      <td>friedman_mse</td>\n",
       "    </tr>\n",
       "    <tr>\n",
       "      <th>2</th>\n",
       "      <td>3</td>\n",
       "      <td>-8.043411</td>\n",
       "      <td>0</td>\n",
       "      <td>15</td>\n",
       "      <td>mse</td>\n",
       "    </tr>\n",
       "    <tr>\n",
       "      <th>3</th>\n",
       "      <td>4</td>\n",
       "      <td>-8.043755</td>\n",
       "      <td>None</td>\n",
       "      <td>14</td>\n",
       "      <td>mse</td>\n",
       "    </tr>\n",
       "    <tr>\n",
       "      <th>4</th>\n",
       "      <td>5</td>\n",
       "      <td>-8.044120</td>\n",
       "      <td>42</td>\n",
       "      <td>15</td>\n",
       "      <td>mse</td>\n",
       "    </tr>\n",
       "  </tbody>\n",
       "</table>\n",
       "</div>"
      ],
      "text/plain": [
       "   rank     NRMSE p_random_state p_max_depth   p_criterion\n",
       "0     1 -8.042244           None          15           mse\n",
       "1     2 -8.043194              0          15  friedman_mse\n",
       "2     3 -8.043411              0          15           mse\n",
       "3     4 -8.043755           None          14           mse\n",
       "4     5 -8.044120             42          15           mse"
      ]
     },
     "execution_count": 5,
     "metadata": {},
     "output_type": "execute_result"
    }
   ],
   "source": [
    "tmp = pd.DataFrame(model5_gs.cv_results_)\n",
    "tmp = tmp.sort_values(by=['rank_test_score']).reset_index(drop='index')\n",
    "tmp [['rank_test_score', 'mean_test_score', 'mean_fit_time', 'mean_score_time',\n",
    "      'param_max_depth', 'param_criterion']].head(10)\n",
    "\n",
    "tmp = tmp.rename(columns={'rank_test_score' : 'rank',\n",
    "                          'mean_test_score' : 'NRMSE',\n",
    "                          'param_random_state' : 'p_random_state',\n",
    "                          'param_max_depth' : 'p_max_depth',\n",
    "                          'param_criterion' : 'p_criterion'})\n",
    "\n",
    "tmp [['rank', 'NRMSE', 'p_random_state', 'p_max_depth', 'p_criterion']].head()"
   ]
  },
  {
   "cell_type": "markdown",
   "id": "little-pricing",
   "metadata": {},
   "source": [
    "X.- VotingRegressor"
   ]
  },
  {
   "cell_type": "code",
   "execution_count": 184,
   "id": "assisted-registration",
   "metadata": {},
   "outputs": [],
   "source": [
    "m1 = BaggingRegressor(ExtraTreeRegressor(max_depth=10, random_state=0), random_state=12345)\n",
    "m2 = BaggingRegressor(DecisionTreeRegressor(criterion='friedman_mse', max_depth=10), random_state=54321)\n",
    "m3 = Ridge(fit_intercept=True, normalize=False)\n",
    "m4 = LinearRegression(fit_intercept=True, normalize=False)\n",
    "\n",
    "param_grid = {'estimators' : [[('a1', m1), ('m2', m2)],\n",
    "                              [('b1', m1), ('m2', m2), ('m3', m3)],\n",
    "                              [('c1', m1), ('m2', m2), ('m3', m3), ('m4', m4)]\n",
    "                             ]}\n",
    "\n",
    "modelX    = VotingRegressor(estimators=[])\n",
    "modelX_gs = GridSearchCV(modelX, param_grid, cv=3, n_jobs=-1, scoring='neg_root_mean_squared_error')\n",
    "modelX_gs = modelX_gs.fit(X, y)"
   ]
  },
  {
   "cell_type": "code",
   "execution_count": 185,
   "id": "wanted-juice",
   "metadata": {},
   "outputs": [
    {
     "data": {
      "text/html": [
       "<div>\n",
       "<style scoped>\n",
       "    .dataframe tbody tr th:only-of-type {\n",
       "        vertical-align: middle;\n",
       "    }\n",
       "\n",
       "    .dataframe tbody tr th {\n",
       "        vertical-align: top;\n",
       "    }\n",
       "\n",
       "    .dataframe thead th {\n",
       "        text-align: right;\n",
       "    }\n",
       "</style>\n",
       "<table border=\"1\" class=\"dataframe\">\n",
       "  <thead>\n",
       "    <tr style=\"text-align: right;\">\n",
       "      <th></th>\n",
       "      <th>rank_test_score</th>\n",
       "      <th>mean_test_score</th>\n",
       "      <th>mean_fit_time</th>\n",
       "      <th>mean_score_time</th>\n",
       "      <th>param_estimators</th>\n",
       "    </tr>\n",
       "  </thead>\n",
       "  <tbody>\n",
       "    <tr>\n",
       "      <th>0</th>\n",
       "      <td>1</td>\n",
       "      <td>-8.203192</td>\n",
       "      <td>19.438353</td>\n",
       "      <td>0.478502</td>\n",
       "      <td>[(a1, BaggingRegressor(base_estimator=ExtraTre...</td>\n",
       "    </tr>\n",
       "    <tr>\n",
       "      <th>1</th>\n",
       "      <td>2</td>\n",
       "      <td>-8.353122</td>\n",
       "      <td>17.500798</td>\n",
       "      <td>0.391306</td>\n",
       "      <td>[(b1, BaggingRegressor(base_estimator=ExtraTre...</td>\n",
       "    </tr>\n",
       "    <tr>\n",
       "      <th>2</th>\n",
       "      <td>3</td>\n",
       "      <td>-8.471892</td>\n",
       "      <td>14.771256</td>\n",
       "      <td>0.378634</td>\n",
       "      <td>[(c1, BaggingRegressor(base_estimator=ExtraTre...</td>\n",
       "    </tr>\n",
       "  </tbody>\n",
       "</table>\n",
       "</div>"
      ],
      "text/plain": [
       "   rank_test_score  mean_test_score  mean_fit_time  mean_score_time  \\\n",
       "0                1        -8.203192      19.438353         0.478502   \n",
       "1                2        -8.353122      17.500798         0.391306   \n",
       "2                3        -8.471892      14.771256         0.378634   \n",
       "\n",
       "                                    param_estimators  \n",
       "0  [(a1, BaggingRegressor(base_estimator=ExtraTre...  \n",
       "1  [(b1, BaggingRegressor(base_estimator=ExtraTre...  \n",
       "2  [(c1, BaggingRegressor(base_estimator=ExtraTre...  "
      ]
     },
     "execution_count": 185,
     "metadata": {},
     "output_type": "execute_result"
    }
   ],
   "source": [
    "tmp = pd.DataFrame(modelX_gs.cv_results_)\n",
    "tmp = tmp.sort_values(by=['rank_test_score']).reset_index(drop='index')\n",
    "tmp [['rank_test_score', 'mean_test_score', 'mean_fit_time', 'mean_score_time',\n",
    "      'param_estimators' ]]"
   ]
  },
  {
   "cell_type": "code",
   "execution_count": 203,
   "id": "stretch-activity",
   "metadata": {},
   "outputs": [
    {
     "name": "stdout",
     "output_type": "stream",
     "text": [
      "r2\n",
      "-36.615641642207834\n",
      "-35.299727194929524\n",
      "0.14739346504211426\n"
     ]
    }
   ],
   "source": [
    "modelX = VotingRegressor(estimators=[\n",
    "    ('m1', LinearRegression(n_jobs=-1, normalize=False, copy_X=False)),\n",
    "    ('m2', Ridge(normalize=False, copy_X=False)),\n",
    "    ('m3', BaggingRegressor(DecisionTreeRegressor(criterion='mse', max_depth=10), random_state=0)),\n",
    "    ('m4', BaggingRegressor(ExtraTreeRegressor(criterion='friedman_mse', max_depth=16), random_state=45))])\n",
    "\n",
    "scores = cross_validate(modelX, X, y, cv=5,\n",
    "                        scoring=('r2', 'neg_root_mean_squared_error', 'neg_mean_absolute_error'))\n",
    "print( scores['test_r2'].mean() )\n",
    "print( scores['test_neg_root_mean_squared_error'].mean() )\n",
    "print( scores['test_neg_mean_absolute_error'].mean() )\n",
    "print( scores['score_time'].mean() )"
   ]
  },
  {
   "cell_type": "markdown",
   "id": "intellectual-highland",
   "metadata": {},
   "source": [
    "Y - MPLRegressor"
   ]
  },
  {
   "cell_type": "code",
   "execution_count": null,
   "id": "optimum-friendship",
   "metadata": {},
   "outputs": [
    {
     "name": "stdout",
     "output_type": "stream",
     "text": [
      "Fitting 3 folds for each of 96 candidates, totalling 288 fits\n"
     ]
    },
    {
     "name": "stderr",
     "output_type": "stream",
     "text": [
      "[Parallel(n_jobs=-1)]: Using backend LokyBackend with 4 concurrent workers.\n",
      "[Parallel(n_jobs=-1)]: Done  42 tasks      | elapsed: 15.4min\n",
      "[Parallel(n_jobs=-1)]: Done 192 tasks      | elapsed: 84.3min\n"
     ]
    }
   ],
   "source": [
    "param_grid = {'solver'        : ['lbfgs', 'adam'],\n",
    "              'learning_rate' : ['constant', 'adaptive'],\n",
    "              'activation'    : ['identity', 'relu'],\n",
    "              'max_iter'      : [400, 500, 600],\n",
    "              'random_state'  : [None, 0, 1, 21345]}\n",
    "\n",
    "modelY    = MLPRegressor()\n",
    "modelY_gs = GridSearchCV(modelY, param_grid, cv=3, verbose=1, n_jobs=-1)\n",
    "modelY_gs = modelY_gs.fit(X, y)"
   ]
  },
  {
   "cell_type": "code",
   "execution_count": null,
   "id": "hybrid-garbage",
   "metadata": {},
   "outputs": [],
   "source": [
    "tmp = pd.DataFrame(modelX_gs.cv_results_)\n",
    "tmp = tmp.sort_values(by=['rank_test_score']).reset_index(drop='index')\n",
    "tmp [['rank_test_score', 'mean_test_score', 'mean_fit_time', 'mean_score_time',\n",
    "      'param_solver', 'param_learning_rate', 'param_activation', 'param_max_iter', 'param_random_state' ]]"
   ]
  },
  {
   "cell_type": "markdown",
   "id": "apparent-easter",
   "metadata": {},
   "source": [
    "### Cross-Validation"
   ]
  },
  {
   "cell_type": "code",
   "execution_count": 6,
   "id": "utility-playlist",
   "metadata": {},
   "outputs": [],
   "source": [
    "from sklearn.model_selection import cross_validate"
   ]
  },
  {
   "cell_type": "code",
   "execution_count": 7,
   "id": "empty-blocking",
   "metadata": {},
   "outputs": [
    {
     "data": {
      "text/plain": [
       "((129172, 15), (129172,))"
      ]
     },
     "execution_count": 7,
     "metadata": {},
     "output_type": "execute_result"
    }
   ],
   "source": [
    "df = pd.read_csv('data/train_features.csv')\n",
    "y = df.pop('popularity').values\n",
    "X = df.values\n",
    "X.shape, y.shape"
   ]
  },
  {
   "cell_type": "code",
   "execution_count": 8,
   "id": "indirect-pakistan",
   "metadata": {},
   "outputs": [],
   "source": [
    "models = [LinearRegression(n_jobs=-1, normalize=False, copy_X=False),\n",
    "          Ridge(normalize=False, copy_X=False),\n",
    "          BaggingRegressor(DecisionTreeRegressor(criterion='mse', max_depth=12), random_state=0),\n",
    "          BaggingRegressor(ExtraTreeRegressor(criterion='friedman_mse', max_depth=15), random_state=None),\n",
    "          RandomForestRegressor(max_depth=15, criterion='mse', random_state=None)\n",
    "         ]"
   ]
  },
  {
   "cell_type": "code",
   "execution_count": 9,
   "id": "employed-namibia",
   "metadata": {},
   "outputs": [],
   "source": [
    "scores_r2    = [0.0, 0.0, 0.0, 0.0, 0.0]\n",
    "scores_rmse  = [0.0, 0.0, 0.0, 0.0, 0.0]\n",
    "scores_mae   = [0.0, 0.0, 0.0, 0.0, 0.0]\n",
    "scores_time1 = [0.0, 0.0, 0.0, 0.0, 0.0]\n",
    "scores_time2 = [0.0, 0.0, 0.0, 0.0, 0.0]\n",
    "\n",
    "i = 0\n",
    "for model in models:\n",
    "    scores = cross_validate(model, X, y, cv=5,\n",
    "                            scoring=('r2', 'neg_root_mean_squared_error', 'neg_mean_absolute_error'))\n",
    "    scores_r2[i]    = scores['test_r2'].mean()\n",
    "    scores_rmse[i]  = scores['test_neg_root_mean_squared_error'].mean()\n",
    "    scores_mae[i]   = scores['test_neg_mean_absolute_error'].mean()\n",
    "    scores_time1[i] = scores['score_time'].mean()\n",
    "    scores_time2[i] = scores['fit_time'].mean()\n",
    "    i = i + 1"
   ]
  },
  {
   "cell_type": "code",
   "execution_count": 10,
   "id": "extended-sheet",
   "metadata": {},
   "outputs": [
    {
     "data": {
      "text/plain": [
       "{'fit_time': array([101.37347746,  98.41853833,  85.48430991,  83.67152333,\n",
       "         86.20834923]),\n",
       " 'score_time': array([0.53938055, 0.4493835 , 0.45048285, 0.44765139, 0.44890976]),\n",
       " 'test_r2': array([0.86425877, 0.8642528 , 0.86403988, 0.86582064, 0.86997324]),\n",
       " 'test_neg_root_mean_squared_error': array([-8.06455569, -8.08110082, -8.08347634, -8.00799847, -7.85118646]),\n",
       " 'test_neg_mean_absolute_error': array([-5.12183509, -5.13183775, -5.15975098, -5.10741877, -5.04747419])}"
      ]
     },
     "execution_count": 10,
     "metadata": {},
     "output_type": "execute_result"
    }
   ],
   "source": [
    "scores"
   ]
  },
  {
   "cell_type": "code",
   "execution_count": 11,
   "id": "cleared-plate",
   "metadata": {},
   "outputs": [
    {
     "data": {
      "text/html": [
       "<div>\n",
       "<style scoped>\n",
       "    .dataframe tbody tr th:only-of-type {\n",
       "        vertical-align: middle;\n",
       "    }\n",
       "\n",
       "    .dataframe tbody tr th {\n",
       "        vertical-align: top;\n",
       "    }\n",
       "\n",
       "    .dataframe thead th {\n",
       "        text-align: right;\n",
       "    }\n",
       "</style>\n",
       "<table border=\"1\" class=\"dataframe\">\n",
       "  <thead>\n",
       "    <tr style=\"text-align: right;\">\n",
       "      <th></th>\n",
       "      <th>model</th>\n",
       "      <th>rmse</th>\n",
       "      <th>r2</th>\n",
       "      <th>mae</th>\n",
       "      <th>score_time</th>\n",
       "      <th>fit_time</th>\n",
       "    </tr>\n",
       "  </thead>\n",
       "  <tbody>\n",
       "    <tr>\n",
       "      <th>0</th>\n",
       "      <td>Linear</td>\n",
       "      <td>8.987957</td>\n",
       "      <td>0.831184</td>\n",
       "      <td>6.011007</td>\n",
       "      <td>0.011868</td>\n",
       "      <td>0.143467</td>\n",
       "    </tr>\n",
       "    <tr>\n",
       "      <th>1</th>\n",
       "      <td>Ridge</td>\n",
       "      <td>8.987957</td>\n",
       "      <td>0.831184</td>\n",
       "      <td>6.010996</td>\n",
       "      <td>0.005948</td>\n",
       "      <td>0.054387</td>\n",
       "    </tr>\n",
       "    <tr>\n",
       "      <th>2</th>\n",
       "      <td>ExtraTree</td>\n",
       "      <td>8.130892</td>\n",
       "      <td>0.861847</td>\n",
       "      <td>5.192622</td>\n",
       "      <td>0.078100</td>\n",
       "      <td>8.708751</td>\n",
       "    </tr>\n",
       "    <tr>\n",
       "      <th>3</th>\n",
       "      <td>DecisionTree</td>\n",
       "      <td>8.189384</td>\n",
       "      <td>0.859847</td>\n",
       "      <td>5.269433</td>\n",
       "      <td>0.107571</td>\n",
       "      <td>2.517530</td>\n",
       "    </tr>\n",
       "    <tr>\n",
       "      <th>4</th>\n",
       "      <td>RandomForest</td>\n",
       "      <td>8.017664</td>\n",
       "      <td>0.865669</td>\n",
       "      <td>5.113663</td>\n",
       "      <td>0.467162</td>\n",
       "      <td>91.031240</td>\n",
       "    </tr>\n",
       "  </tbody>\n",
       "</table>\n",
       "</div>"
      ],
      "text/plain": [
       "          model      rmse        r2       mae  score_time   fit_time\n",
       "0        Linear  8.987957  0.831184  6.011007    0.011868   0.143467\n",
       "1         Ridge  8.987957  0.831184  6.010996    0.005948   0.054387\n",
       "2     ExtraTree  8.130892  0.861847  5.192622    0.078100   8.708751\n",
       "3  DecisionTree  8.189384  0.859847  5.269433    0.107571   2.517530\n",
       "4  RandomForest  8.017664  0.865669  5.113663    0.467162  91.031240"
      ]
     },
     "execution_count": 11,
     "metadata": {},
     "output_type": "execute_result"
    }
   ],
   "source": [
    "res = pd.DataFrame(\n",
    "    {'model'      : ['Linear', 'Ridge', 'ExtraTree', 'DecisionTree', 'RandomForest'],\n",
    "     'rmse'       : scores_rmse,\n",
    "     'r2'         : scores_r2,\n",
    "     'mae'        : scores_mae,\n",
    "     'score_time' : scores_time1,\n",
    "     'fit_time'   : scores_time2})\n",
    "res['rmse'] = res['rmse'] * (-1)\n",
    "res['mae']  = res['mae'] * (-1)\n",
    "res"
   ]
  },
  {
   "cell_type": "code",
   "execution_count": 12,
   "id": "desperate-effectiveness",
   "metadata": {},
   "outputs": [
    {
     "data": {
      "text/plain": [
       "<AxesSubplot:xlabel='[Models]'>"
      ]
     },
     "execution_count": 12,
     "metadata": {},
     "output_type": "execute_result"
    },
    {
     "data": {
      "image/png": "[encoded data removed]",
      "text/plain": [
       "<Figure size 432x288 with 1 Axes>"
      ]
     },
     "metadata": {
      "needs_background": "light"
     },
     "output_type": "display_data"
    }
   ],
   "source": [
    "tmp = res[['model', 'rmse', 'mae']]\n",
    "tmp = tmp.sort_values(by=['rmse']).reset_index(drop='index')\n",
    "tmp.plot.bar(x='model', rot=0, ylim=[4., 10.0], xlabel='[Models]')"
   ]
  },
  {
   "cell_type": "code",
   "execution_count": 13,
   "id": "sunset-registration",
   "metadata": {},
   "outputs": [
    {
     "data": {
      "text/plain": [
       "<AxesSubplot:xlabel='[Models]', ylabel='R-Square'>"
      ]
     },
     "execution_count": 13,
     "metadata": {},
     "output_type": "execute_result"
    },
    {
     "data": {
      "image/png": "[encoded data removed]",
      "text/plain": [
       "<Figure size 432x288 with 1 Axes>"
      ]
     },
     "metadata": {
      "needs_background": "light"
     },
     "output_type": "display_data"
    }
   ],
   "source": [
    "tmp = res[['model', 'r2']]\n",
    "tmp = tmp.sort_values(by=['r2'], ascending=False).reset_index(drop='index')\n",
    "\n",
    "tmp.plot.bar(x='model', legend=False, ylabel='R-Square', rot=0, \n",
    "             color={\"r2\": \"darkblue\"}, ylim=[0.8, 0.88], xlabel='[Models]')"
   ]
  },
  {
   "cell_type": "code",
   "execution_count": 14,
   "id": "beneficial-sending",
   "metadata": {},
   "outputs": [
    {
     "data": {
      "text/plain": [
       "<AxesSubplot:xlabel='model', ylabel='Training Time'>"
      ]
     },
     "execution_count": 14,
     "metadata": {},
     "output_type": "execute_result"
    },
    {
     "data": {
      "image/png": "[encoded data removed]",
      "text/plain": [
       "<Figure size 432x288 with 1 Axes>"
      ]
     },
     "metadata": {
      "needs_background": "light"
     },
     "output_type": "display_data"
    }
   ],
   "source": [
    "tmp = res[['model', 'fit_time']]\n",
    "tmp = tmp.sort_values(by=['fit_time'], ascending=False).reset_index(drop='index')\n",
    "\n",
    "tmp.plot.bar(x='model', color={\"fit_time\": \"red\"}, ylabel='Training Time', legend=False, rot=0)"
   ]
  },
  {
   "cell_type": "code",
   "execution_count": 15,
   "id": "virgin-mumbai",
   "metadata": {},
   "outputs": [
    {
     "data": {
      "text/plain": [
       "<AxesSubplot:xlabel='model', ylabel='Scoring Time'>"
      ]
     },
     "execution_count": 15,
     "metadata": {},
     "output_type": "execute_result"
    },
    {
     "data": {
      "image/png": "[encoded data removed]",
      "text/plain": [
       "<Figure size 432x288 with 1 Axes>"
      ]
     },
     "metadata": {
      "needs_background": "light"
     },
     "output_type": "display_data"
    }
   ],
   "source": [
    "tmp = res[['model', 'score_time']]\n",
    "tmp = tmp.sort_values(by=['score_time'], ascending=False).reset_index(drop='index')\n",
    "\n",
    "tmp.plot.bar(x='model', color={\"score_time\": \"yellow\"}, ylabel='Scoring Time', legend=False, rot=0)"
   ]
  },
  {
   "cell_type": "code",
   "execution_count": null,
   "id": "african-satellite",
   "metadata": {},
   "outputs": [],
   "source": []
  }
 ],
 "metadata": {
  "kernelspec": {
   "display_name": "Python 3",
   "language": "python",
   "name": "python3"
  },
  "language_info": {
   "codemirror_mode": {
    "name": "ipython",
    "version": 3
   },
   "file_extension": ".py",
   "mimetype": "text/x-python",
   "name": "python",
   "nbconvert_exporter": "python",
   "pygments_lexer": "ipython3",
   "version": "3.8.9"
  }
 },
 "nbformat": 4,
 "nbformat_minor": 5
}
