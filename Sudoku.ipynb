{
 "cells": [
  {
   "cell_type": "markdown",
   "metadata": {
    "id": "5N8uPtBxdQGN",
    "jp-MarkdownHeadingCollapsed": true,
    "tags": []
   },
   "source": [
    "## Test 1"
   ]
  },
  {
   "cell_type": "code",
   "execution_count": 1,
   "metadata": {
    "id": "KWcWW2D1B0R1"
   },
   "outputs": [],
   "source": [
    "matrix = [ 3,1,0, 6,5,2, 7,0,0,\n",
    "           6,0,5, 0,8,9, 3,0,0,\n",
    "           0,0,9, 1,3,4, 5,2,6,\n",
    "          \n",
    "           2,3,1, 4,7,0, 0,9,8,\n",
    "           0,5,0, 2,9,0, 0,3,7,\n",
    "           9,0,7, 3,1,6, 0,4,0,\n",
    "\n",
    "           0,0,2, 8,0,1, 9,7,0,\n",
    "           0,0,0, 9,4,7, 0,5,2,\n",
    "           0,9,8, 0,0,0, 0,6,1 ]"
   ]
  },
  {
   "cell_type": "code",
   "execution_count": 2,
   "metadata": {
    "colab": {
     "base_uri": "https://localhost:8080/"
    },
    "executionInfo": {
     "elapsed": 7,
     "status": "ok",
     "timestamp": 1667143359961,
     "user": {
      "displayName": "Alan Cueva",
      "userId": "17777460781525840070"
     },
     "user_tz": 0
    },
    "id": "6UCUdMVpB022",
    "outputId": "dccbf3a1-d8b9-4430-b962-2d26c4e79301"
   },
   "outputs": [
    {
     "name": "stdout",
     "output_type": "stream",
     "text": [
      "3 1 _   6 5 2   7 _ _\n",
      "6 _ 5   _ 8 9   3 _ _\n",
      "_ _ 9   1 3 4   5 2 6\n",
      "\n",
      "2 3 1   4 7 _   _ 9 8\n",
      "_ 5 _   2 9 _   _ 3 7\n",
      "9 _ 7   3 1 6   _ 4 _\n",
      "\n",
      "_ _ 2   8 _ 1   9 7 _\n",
      "_ _ _   9 4 7   _ 5 2\n",
      "_ 9 8   _ _ _   _ 6 1\n"
     ]
    }
   ],
   "source": [
    "from sudoku_solver import Sudoku\n",
    "\n",
    "sdk = Sudoku(matrix)\n",
    "print(sdk)"
   ]
  },
  {
   "cell_type": "code",
   "execution_count": 7,
   "metadata": {
    "colab": {
     "base_uri": "https://localhost:8080/"
    },
    "executionInfo": {
     "elapsed": 390,
     "status": "ok",
     "timestamp": 1667143389855,
     "user": {
      "displayName": "Alan Cueva",
      "userId": "17777460781525840070"
     },
     "user_tz": 0
    },
    "id": "gUmaE-_8LQaB",
    "outputId": "4a43c97e-f662-4f0c-a9c9-5ecf4ac34534"
   },
   "outputs": [
    {
     "data": {
      "text/plain": [
       "0"
      ]
     },
     "execution_count": 7,
     "metadata": {},
     "output_type": "execute_result"
    }
   ],
   "source": [
    "sdk.check()"
   ]
  },
  {
   "cell_type": "code",
   "execution_count": 8,
   "metadata": {
    "colab": {
     "base_uri": "https://localhost:8080/"
    },
    "executionInfo": {
     "elapsed": 315,
     "status": "ok",
     "timestamp": 1667143391980,
     "user": {
      "displayName": "Alan Cueva",
      "userId": "17777460781525840070"
     },
     "user_tz": 0
    },
    "id": "nilaYsibKrKd",
    "outputId": "95bb3d5e-75b7-4fa6-c067-3009c0e07914"
   },
   "outputs": [
    {
     "name": "stdout",
     "output_type": "stream",
     "text": [
      "3 1 4   6 5 2   7 8 9\n",
      "6 2 5   7 8 9   3 1 4\n",
      "8 7 9   1 3 4   5 2 6\n",
      "\n",
      "2 3 1   4 7 5   6 9 8\n",
      "4 5 6   2 9 8   1 3 7\n",
      "9 8 7   3 1 6   2 4 5\n",
      "\n",
      "5 4 2   8 6 1   9 7 3\n",
      "1 6 3   9 4 7   8 5 2\n",
      "7 9 8   5 2 3   4 6 1\n"
     ]
    }
   ],
   "source": [
    "print(sdk)"
   ]
  },
  {
   "cell_type": "markdown",
   "metadata": {
    "id": "EGhFS5YPd5QK",
    "jp-MarkdownHeadingCollapsed": true,
    "tags": []
   },
   "source": [
    "## Test 2"
   ]
  },
  {
   "cell_type": "code",
   "execution_count": 9,
   "metadata": {
    "id": "fArZKpIXSCnT"
   },
   "outputs": [],
   "source": [
    "matrix = [ 0,0,0, 2,6,0, 7,0,1,\n",
    "           6,8,0, 0,7,0, 0,9,0,\n",
    "           1,9,0, 0,0,4, 5,0,0,\n",
    "          \n",
    "           8,2,0, 1,0,0, 0,4,0,\n",
    "           0,0,4, 6,0,2, 9,0,0,\n",
    "           0,5,0, 0,0,3, 0,2,8,\n",
    "\n",
    "           0,0,9, 3,0,0, 0,7,4,\n",
    "           0,4,0, 0,5,0, 0,3,6,\n",
    "           7,0,3, 0,1,8, 0,0,0 ]"
   ]
  },
  {
   "cell_type": "code",
   "execution_count": 10,
   "metadata": {
    "colab": {
     "base_uri": "https://localhost:8080/"
    },
    "executionInfo": {
     "elapsed": 464,
     "status": "ok",
     "timestamp": 1667143447618,
     "user": {
      "displayName": "Alan Cueva",
      "userId": "17777460781525840070"
     },
     "user_tz": 0
    },
    "id": "dQKhyQByeIGD",
    "outputId": "ca3f2b9d-158b-47e4-b343-dae2a84470f3"
   },
   "outputs": [
    {
     "name": "stdout",
     "output_type": "stream",
     "text": [
      "_ _ _   2 6 _   7 _ 1\n",
      "6 8 _   _ 7 _   _ 9 _\n",
      "1 9 _   _ _ 4   5 _ _\n",
      "\n",
      "8 2 _   1 _ _   _ 4 _\n",
      "_ _ 4   6 _ 2   9 _ _\n",
      "_ 5 _   _ _ 3   _ 2 8\n",
      "\n",
      "_ _ 9   3 _ _   _ 7 4\n",
      "_ 4 _   _ 5 _   _ 3 6\n",
      "7 _ 3   _ 1 8   _ _ _\n"
     ]
    }
   ],
   "source": [
    "from sudoku_solver import Sudoku\n",
    "\n",
    "sdk = Sudoku(matrix)\n",
    "print(sdk)"
   ]
  },
  {
   "cell_type": "code",
   "execution_count": 13,
   "metadata": {
    "colab": {
     "base_uri": "https://localhost:8080/"
    },
    "executionInfo": {
     "elapsed": 7,
     "status": "ok",
     "timestamp": 1667143455914,
     "user": {
      "displayName": "Alan Cueva",
      "userId": "17777460781525840070"
     },
     "user_tz": 0
    },
    "id": "3VvJXKSreJ2K",
    "outputId": "0109d2e0-c033-4f14-b35b-cf59a18c2700"
   },
   "outputs": [
    {
     "data": {
      "text/plain": [
       "0"
      ]
     },
     "execution_count": 13,
     "metadata": {},
     "output_type": "execute_result"
    }
   ],
   "source": [
    "sdk.check()"
   ]
  },
  {
   "cell_type": "code",
   "execution_count": 14,
   "metadata": {
    "colab": {
     "base_uri": "https://localhost:8080/"
    },
    "executionInfo": {
     "elapsed": 4,
     "status": "ok",
     "timestamp": 1667143457470,
     "user": {
      "displayName": "Alan Cueva",
      "userId": "17777460781525840070"
     },
     "user_tz": 0
    },
    "id": "WbTVWCKPeLmy",
    "outputId": "69a36686-eeee-4e99-b851-1b65bf844fd4"
   },
   "outputs": [
    {
     "name": "stdout",
     "output_type": "stream",
     "text": [
      "4 3 5   2 6 9   7 8 1\n",
      "6 8 2   5 7 1   4 9 3\n",
      "1 9 7   8 3 4   5 6 2\n",
      "\n",
      "8 2 6   1 9 5   3 4 7\n",
      "3 7 4   6 8 2   9 1 5\n",
      "9 5 1   7 4 3   6 2 8\n",
      "\n",
      "5 1 9   3 2 6   8 7 4\n",
      "2 4 8   9 5 7   1 3 6\n",
      "7 6 3   4 1 8   2 5 9\n"
     ]
    }
   ],
   "source": [
    "print(sdk)"
   ]
  },
  {
   "cell_type": "markdown",
   "metadata": {
    "id": "JHDLJyIhfqj9",
    "tags": []
   },
   "source": [
    "## Test 3 (unsolved)"
   ]
  },
  {
   "cell_type": "code",
   "execution_count": 15,
   "metadata": {
    "id": "V6awFNunfrYm"
   },
   "outputs": [],
   "source": [
    "matrix = [ 0,2,0, 6,0,8, 0,0,0,\n",
    "           5,8,0, 0,0,9, 7,0,0,\n",
    "           0,0,0, 0,0,4, 0,0,0,\n",
    "          \n",
    "           3,7,0, 0,0,0, 5,0,0,\n",
    "           6,0,0, 0,0,0, 0,0,4,\n",
    "           0,0,8, 0,0,0, 0,1,3,\n",
    "\n",
    "           0,0,0, 0,2,0, 0,0,0,\n",
    "           0,0,9, 8,0,0, 0,3,6,\n",
    "           0,0,0, 3,0,6, 0,9,0 ]"
   ]
  },
  {
   "cell_type": "code",
   "execution_count": 16,
   "metadata": {
    "colab": {
     "base_uri": "https://localhost:8080/"
    },
    "executionInfo": {
     "elapsed": 4,
     "status": "ok",
     "timestamp": 1667146422492,
     "user": {
      "displayName": "Alan Cueva",
      "userId": "17777460781525840070"
     },
     "user_tz": 0
    },
    "id": "hPGSSD90fs9t",
    "outputId": "faad79d3-26a5-49e6-cc17-c12a5871c724"
   },
   "outputs": [
    {
     "name": "stdout",
     "output_type": "stream",
     "text": [
      "_ 2 _   6 _ 8   _ _ _\n",
      "5 8 _   _ _ 9   7 _ _\n",
      "_ _ _   _ _ 4   _ _ _\n",
      "\n",
      "3 7 _   _ _ _   5 _ _\n",
      "6 _ _   _ _ _   _ _ 4\n",
      "_ _ 8   _ _ _   _ 1 3\n",
      "\n",
      "_ _ _   _ 2 _   _ _ _\n",
      "_ _ 9   8 _ _   _ 3 6\n",
      "_ _ _   3 _ 6   _ 9 _\n"
     ]
    }
   ],
   "source": [
    "from sudoku_solver import Sudoku\n",
    "\n",
    "sdk = Sudoku(matrix)\n",
    "print(sdk)"
   ]
  },
  {
   "cell_type": "code",
   "execution_count": 20,
   "metadata": {
    "colab": {
     "base_uri": "https://localhost:8080/"
    },
    "executionInfo": {
     "elapsed": 504,
     "status": "ok",
     "timestamp": 1667146496771,
     "user": {
      "displayName": "Alan Cueva",
      "userId": "17777460781525840070"
     },
     "user_tz": 0
    },
    "id": "YkPMxCITfvH9",
    "outputId": "2a4a00fc-c3c4-4808-988e-3f081e8a26ef"
   },
   "outputs": [
    {
     "data": {
      "text/plain": [
       "53"
      ]
     },
     "execution_count": 20,
     "metadata": {},
     "output_type": "execute_result"
    }
   ],
   "source": [
    "sdk.check()"
   ]
  },
  {
   "cell_type": "code",
   "execution_count": 21,
   "metadata": {
    "colab": {
     "base_uri": "https://localhost:8080/"
    },
    "executionInfo": {
     "elapsed": 6,
     "status": "ok",
     "timestamp": 1667146498727,
     "user": {
      "displayName": "Alan Cueva",
      "userId": "17777460781525840070"
     },
     "user_tz": 0
    },
    "id": "cttfSy-zjoUB",
    "outputId": "a6ecafe5-0aa1-4b1c-97c7-c8d19cfbfd7c"
   },
   "outputs": [
    {
     "data": {
      "text/plain": [
       "53"
      ]
     },
     "execution_count": 21,
     "metadata": {},
     "output_type": "execute_result"
    }
   ],
   "source": [
    "sdk.uniqueOption()"
   ]
  },
  {
   "cell_type": "code",
   "execution_count": 22,
   "metadata": {
    "colab": {
     "base_uri": "https://localhost:8080/"
    },
    "executionInfo": {
     "elapsed": 6,
     "status": "ok",
     "timestamp": 1667146500927,
     "user": {
      "displayName": "Alan Cueva",
      "userId": "17777460781525840070"
     },
     "user_tz": 0
    },
    "id": "uk4G5nfJfw2V",
    "outputId": "361c5367-cee2-4c81-dc90-1751424d795c"
   },
   "outputs": [
    {
     "name": "stdout",
     "output_type": "stream",
     "text": [
      "_ 2 _   6 _ 8   _ _ _\n",
      "5 8 _   _ _ 9   7 _ _\n",
      "_ _ _   _ _ 4   _ _ _\n",
      "\n",
      "3 7 _   _ _ _   5 _ _\n",
      "6 _ _   _ _ 3   _ 7 4\n",
      "_ _ 8   _ _ _   _ 1 3\n",
      "\n",
      "_ _ _   9 2 _   _ 7 _\n",
      "_ _ 9   8 _ _   _ 3 6\n",
      "_ _ _   3 _ 6   _ 9 _\n"
     ]
    }
   ],
   "source": [
    "print(sdk)"
   ]
  },
  {
   "cell_type": "code",
   "execution_count": null,
   "metadata": {},
   "outputs": [],
   "source": []
  },
  {
   "cell_type": "code",
   "execution_count": null,
   "metadata": {},
   "outputs": [],
   "source": []
  }
 ],
 "metadata": {
  "colab": {
   "authorship_tag": "ABX9TyMd29v7ZCVXWZ3FurRkIimk",
   "collapsed_sections": [
    "Se0dHpyi40Lk",
    "m9TiK1-zd2FY",
    "EGhFS5YPd5QK"
   ],
   "provenance": []
  },
  "kernelspec": {
   "display_name": "Python 3 (ipykernel)",
   "language": "python",
   "name": "python3"
  },
  "language_info": {
   "codemirror_mode": {
    "name": "ipython",
    "version": 3
   },
   "file_extension": ".py",
   "mimetype": "text/x-python",
   "name": "python",
   "nbconvert_exporter": "python",
   "pygments_lexer": "ipython3",
   "version": "3.8.10"
  }
 },
 "nbformat": 4,
 "nbformat_minor": 4
}
